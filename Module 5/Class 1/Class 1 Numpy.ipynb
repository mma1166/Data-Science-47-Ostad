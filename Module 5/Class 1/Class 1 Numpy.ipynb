{
 "cells": [
  {
   "cell_type": "code",
   "execution_count": 1,
   "id": "87926fd3-83c9-49be-a47e-27dc1558ab14",
   "metadata": {},
   "outputs": [],
   "source": [
    "import numpy as np"
   ]
  },
  {
   "cell_type": "code",
   "execution_count": 2,
   "id": "c14291c6-356c-4113-a019-bef3e5626452",
   "metadata": {},
   "outputs": [
    {
     "name": "stdout",
     "output_type": "stream",
     "text": [
      "[5 7 9]\n"
     ]
    }
   ],
   "source": [
    "arr1 = np.array([1,2,3])\n",
    "arr2 = np.array([4,5,6])\n",
    "print (arr1 + arr2)"
   ]
  },
  {
   "cell_type": "code",
   "execution_count": 3,
   "id": "d42929d6-4de3-4401-8d65-966e66ccd6b8",
   "metadata": {},
   "outputs": [
    {
     "name": "stdout",
     "output_type": "stream",
     "text": [
      "['cheese' 'bbq' 'veg' 'spicy']\n"
     ]
    }
   ],
   "source": [
    "menu = np.array(['cheese','bbq','veg','spicy'])\n",
    "print(menu)"
   ]
  },
  {
   "cell_type": "code",
   "execution_count": 6,
   "id": "bc7c9e87-c7aa-48c6-9a32-85138b3eba69",
   "metadata": {},
   "outputs": [
    {
     "name": "stdout",
     "output_type": "stream",
     "text": [
      "<class 'list'>\n",
      "<class 'numpy.ndarray'>\n",
      "[ 80. 160. 120. 176.]\n"
     ]
    }
   ],
   "source": [
    "prices = [100,200,150,220]\n",
    "print(type(prices))\n",
    "prices = np.array(prices) #conversion into numpy array\n",
    "print(type(prices))\n",
    "prices = prices * 0.8 #for 20% discount\n",
    "print(prices)"
   ]
  },
  {
   "cell_type": "code",
   "execution_count": 7,
   "id": "a925ffc7-cd8f-43d0-a570-460775558171",
   "metadata": {},
   "outputs": [
    {
     "name": "stdout",
     "output_type": "stream",
     "text": [
      "[[0. 0. 0.]\n",
      " [0. 0. 0.]]\n"
     ]
    }
   ],
   "source": [
    "empty_table = np.zeros ((2,3)) #2 Rows, 3 Column\n",
    "print(empty_table)"
   ]
  },
  {
   "cell_type": "code",
   "execution_count": 9,
   "id": "4ae99ece-32b0-40b5-8a0a-67284b55419a",
   "metadata": {},
   "outputs": [
    {
     "name": "stdout",
     "output_type": "stream",
     "text": [
      "[[1. 1. 1.]\n",
      " [1. 1. 1.]]\n"
     ]
    }
   ],
   "source": [
    "full_table = np.ones ((2,3)) #2 Rows, 3 Column\n",
    "print(full_table)"
   ]
  },
  {
   "cell_type": "code",
   "execution_count": 10,
   "id": "682feef2-9dda-40ed-95da-bf2f9eec888a",
   "metadata": {},
   "outputs": [
    {
     "name": "stdout",
     "output_type": "stream",
     "text": [
      "[['bbq' 'bbq' 'bbq']\n",
      " ['bbq' 'bbq' 'bbq']]\n"
     ]
    }
   ],
   "source": [
    "bbq_box = np.full((2,3),'bbq')\n",
    "print(bbq_box)"
   ]
  },
  {
   "cell_type": "code",
   "execution_count": 11,
   "id": "39d43bf9-aa74-4c61-bc31-2456ae8da72d",
   "metadata": {},
   "outputs": [
    {
     "name": "stdout",
     "output_type": "stream",
     "text": [
      "[[2 4 7]\n",
      " [1 4 3]]\n"
     ]
    }
   ],
   "source": [
    "kids_order = np.random.randint(1,8, (2,3)) #randomly inserting values from 1 to 8 in 2*3 matrix\n",
    "print(kids_order)"
   ]
  },
  {
   "cell_type": "code",
   "execution_count": 12,
   "id": "e7c3b373-00ec-42b2-83fd-1111aa8a3cd4",
   "metadata": {},
   "outputs": [
    {
     "name": "stdout",
     "output_type": "stream",
     "text": [
      "[[0.25744993 0.0623058  0.97716353]\n",
      " [0.40298106 0.65282597 0.14583513]]\n"
     ]
    }
   ],
   "source": [
    "surprise_topings = np.random.rand(2,3) #random float value between 0 to 1\n",
    "print(surprise_topings) "
   ]
  },
  {
   "cell_type": "code",
   "execution_count": 19,
   "id": "d7cb3223-b8b9-493d-a783-cd8b33a3f1b4",
   "metadata": {},
   "outputs": [
    {
     "name": "stdout",
     "output_type": "stream",
     "text": [
      "[[1. 0. 0.]\n",
      " [0. 1. 0.]\n",
      " [0. 0. 1.]]\n"
     ]
    }
   ],
   "source": [
    "signature_pizzas=np.identity(3)\n",
    "print(signature_pizzas)"
   ]
  },
  {
   "cell_type": "code",
   "execution_count": 21,
   "id": "27029fd5-2a02-4209-9bbf-7f570397e67f",
   "metadata": {},
   "outputs": [
    {
     "name": "stdout",
     "output_type": "stream",
     "text": [
      "[ 0 15 30 45 60]\n"
     ]
    }
   ],
   "source": [
    "delivery_times = np.arange(0,70,15)\n",
    "print(delivery_times)"
   ]
  },
  {
   "cell_type": "code",
   "execution_count": 22,
   "id": "93cee32d-ea63-4ee8-b798-0be7e0a2b755",
   "metadata": {},
   "outputs": [
    {
     "name": "stdout",
     "output_type": "stream",
     "text": [
      "[ 0.  17.5 35.  52.5 70. ]\n"
     ]
    }
   ],
   "source": [
    "cooking_shifts = np.linspace(0,70,5) #0 to 70 range value ke 5 vag e devide kore.\n",
    "print(cooking_shifts)"
   ]
  },
  {
   "cell_type": "code",
   "execution_count": 24,
   "id": "15fc1b8f-23ea-4a10-beb3-7dd74e3190ff",
   "metadata": {},
   "outputs": [
    {
     "name": "stdout",
     "output_type": "stream",
     "text": [
      "spicy\n"
     ]
    }
   ],
   "source": [
    "orders = np.array(['chese','veg','spicy','bbq'])\n",
    "print(orders[2])"
   ]
  },
  {
   "cell_type": "code",
   "execution_count": 25,
   "id": "c1d6b6ba-6a8f-40c5-b10a-46338e476b52",
   "metadata": {},
   "outputs": [
    {
     "name": "stdout",
     "output_type": "stream",
     "text": [
      "['chese' 'veg']\n"
     ]
    }
   ],
   "source": [
    "print(orders[:2]) #২ নাম্বার পজিশানের আগের পর্যন্ত জিনিসপত্র দেখাচ্ছে। "
   ]
  },
  {
   "cell_type": "code",
   "execution_count": 32,
   "id": "694edc28-e06e-4f2b-ab9d-1141f10f2546",
   "metadata": {},
   "outputs": [
    {
     "name": "stdout",
     "output_type": "stream",
     "text": [
      "chese\n",
      "spicy\n"
     ]
    }
   ],
   "source": [
    "orders = np.array([\n",
    "    ['chese','veg','meat'],\n",
    "    ['spicy','bbq','spicy']\n",
    "])\n",
    "print(orders[0,0])\n",
    "print(orders[1,0])"
   ]
  },
  {
   "cell_type": "code",
   "execution_count": 33,
   "id": "807a48ef-433c-4e61-9b51-1818f1fce21e",
   "metadata": {},
   "outputs": [
    {
     "name": "stdout",
     "output_type": "stream",
     "text": [
      "['veg' 'bbq']\n"
     ]
    }
   ],
   "source": [
    "print(orders[:,1]) #Showing only column 1"
   ]
  },
  {
   "cell_type": "code",
   "execution_count": 34,
   "id": "9e5d016f-9eab-4d51-8d2f-2e08298dd126",
   "metadata": {},
   "outputs": [
    {
     "name": "stdout",
     "output_type": "stream",
     "text": [
      "['chese' 'spicy']\n"
     ]
    }
   ],
   "source": [
    "print(orders[:,0]) #Showing only column o"
   ]
  },
  {
   "cell_type": "code",
   "execution_count": 35,
   "id": "96bbbdf1-1af5-469d-ab6d-5d36bd5e2ddc",
   "metadata": {},
   "outputs": [
    {
     "name": "stdout",
     "output_type": "stream",
     "text": [
      "['chese' 'veg' 'meat']\n"
     ]
    }
   ],
   "source": [
    "print(orders[0,:])"
   ]
  },
  {
   "cell_type": "code",
   "execution_count": 36,
   "id": "1fc9f526-46a2-4acd-8e09-c546a3b2e610",
   "metadata": {},
   "outputs": [
    {
     "name": "stdout",
     "output_type": "stream",
     "text": [
      "['veg' 'meat']\n"
     ]
    }
   ],
   "source": [
    "print(orders[0,1:3]) # ) Row 1 to 3 এর আগ পর্যন্ত কলাম। "
   ]
  },
  {
   "cell_type": "code",
   "execution_count": 37,
   "id": "e17e515a-9ae5-4869-aac0-43eaed61063e",
   "metadata": {},
   "outputs": [
    {
     "name": "stdout",
     "output_type": "stream",
     "text": [
      "Maximum Sales index 2\n",
      "Max Sales 8000\n"
     ]
    }
   ],
   "source": [
    "sales= np.array ([2000,1500,8000,3500])\n",
    "print(\"Maximum Sales index\", np.argmax(sales))\n",
    "print(\"Max Sales\",np.max(sales))"
   ]
  },
  {
   "cell_type": "code",
   "execution_count": 38,
   "id": "3ee8e477-0f65-4482-a70c-2458f182b4ee",
   "metadata": {},
   "outputs": [
    {
     "name": "stdout",
     "output_type": "stream",
     "text": [
      "Minimum Sales index 1\n",
      "Min Sales 1500\n"
     ]
    }
   ],
   "source": [
    "sales= np.array ([2000,1500,8000,3500])\n",
    "print(\"Minimum Sales index\", np.argmin(sales))\n",
    "print(\"Min Sales\",np.min(sales))"
   ]
  },
  {
   "cell_type": "code",
   "execution_count": null,
   "id": "a1bc7dea-7a5f-4fd1-bfe9-5e0fd13d5991",
   "metadata": {},
   "outputs": [],
   "source": []
  }
 ],
 "metadata": {
  "kernelspec": {
   "display_name": "Python 3 (ipykernel)",
   "language": "python",
   "name": "python3"
  },
  "language_info": {
   "codemirror_mode": {
    "name": "ipython",
    "version": 3
   },
   "file_extension": ".py",
   "mimetype": "text/x-python",
   "name": "python",
   "nbconvert_exporter": "python",
   "pygments_lexer": "ipython3",
   "version": "3.13.5"
  }
 },
 "nbformat": 4,
 "nbformat_minor": 5
}
