{
 "cells": [
  {
   "cell_type": "code",
   "execution_count": 3,
   "id": "5ee78f66",
   "metadata": {},
   "outputs": [
    {
     "name": "stdout",
     "output_type": "stream",
     "text": [
      "Input Number is Odd\n"
     ]
    }
   ],
   "source": [
    "#Task 1\n",
    "\n",
    "number= int(input(\"Enter the number: \"))\n",
    "\n",
    "if number % 2 == 0:\n",
    "    print(\"Input Number is Even\")\n",
    "else:\n",
    "    print(\"Input Number is Odd\") "
   ]
  },
  {
   "cell_type": "code",
   "execution_count": null,
   "id": "55c2e904",
   "metadata": {},
   "outputs": [
    {
     "name": "stdout",
     "output_type": "stream",
     "text": [
      "5\n"
     ]
    }
   ],
   "source": [
    "#Task 2\n",
    "number_1 = int(input(\"Enter Number 1:\"))\n",
    "operator = input(\"Enter a logical operator\") \n",
    "number_2 = int(input(\"Enter Number 2\"))\n",
    "\n",
    "if operator == \"+\":\n",
    "   print( number_1 + number_2)\n",
    "if operator == \"-\":\n",
    "   print( number_1 - number_2)\n",
    "if operator == \"*\":\n",
    "   print( number_1 * number_2)\n",
    "if operator == \"/\":\n",
    "   print( number_1 + number_2)\n"
   ]
  },
  {
   "cell_type": "code",
   "execution_count": 1,
   "id": "7185512f",
   "metadata": {},
   "outputs": [
    {
     "name": "stdout",
     "output_type": "stream",
     "text": [
      "[2, 4, 6, 8, 10, 12, 14, 16, 18, 20, 22, 24, 26, 28, 30, 32, 34, 36, 38, 40, 42, 44, 46, 48, 50, 52, 54, 56, 58, 60, 62, 64, 66, 68, 70, 72, 74, 76, 78, 80, 82, 84, 86, 88, 90, 92, 94, 96, 98, 100]\n",
      "Sum of even number from 1 to 100 is:  2550\n"
     ]
    }
   ],
   "source": [
    "#Task 3\n",
    "list= []\n",
    "for i in range (1,101):\n",
    "    if  i % 2 == 0:\n",
    "        list.append(i)\n",
    "print(list)\n",
    "print(\"Sum of even number from 1 to 100 is: \", sum(list))"
   ]
  },
  {
   "cell_type": "code",
   "execution_count": 1,
   "id": "231fbe67",
   "metadata": {},
   "outputs": [
    {
     "name": "stdout",
     "output_type": "stream",
     "text": [
      "print\n"
     ]
    }
   ],
   "source": [
    "_aab = \"print\"\n",
    "print(_aab)"
   ]
  }
 ],
 "metadata": {
  "kernelspec": {
   "display_name": "base",
   "language": "python",
   "name": "python3"
  },
  "language_info": {
   "codemirror_mode": {
    "name": "ipython",
    "version": 3
   },
   "file_extension": ".py",
   "mimetype": "text/x-python",
   "name": "python",
   "nbconvert_exporter": "python",
   "pygments_lexer": "ipython3",
   "version": "3.13.5"
  }
 },
 "nbformat": 4,
 "nbformat_minor": 5
}
