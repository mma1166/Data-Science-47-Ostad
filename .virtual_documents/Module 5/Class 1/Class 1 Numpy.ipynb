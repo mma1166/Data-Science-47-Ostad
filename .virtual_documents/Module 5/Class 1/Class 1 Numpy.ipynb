import numpy as np


arr1 = np.array([1,2,3])
arr2 = np.array([4,5,6])
print (arr1 + arr2)


menu = np.array(['cheese','bbq','veg','spicy'])
print(menu)


prices = [100,200,150,220]
print(type(prices))
prices = np.array(prices) #conversion into numpy array
print(type(prices))
prices = prices * 0.8 #for 20% discount
print(prices)


empty_table = np.zeros ((2,3)) #2 Rows, 3 Column
print(empty_table)


full_table = np.ones ((2,3)) #2 Rows, 3 Column
print(full_table)


bbq_box = np.full((2,3),'bbq')
print(bbq_box)


kids_order = np.random.randint(1,8, (2,3)) #randomly inserting values from 1 to 8 in 2*3 matrix
print(kids_order)


surprise_topings = np.random.rand(2,3) #random float value between 0 to 1
print(surprise_topings) 


signature_pizzas=np.identity(3)
print(signature_pizzas)


delivery_times = np.arange(0,70,15)
print(delivery_times)


cooking_shifts = np.linspace(0,70,5) #0 to 70 range value ke 5 vag e devide kore.
print(cooking_shifts)


orders = np.array(['chese','veg','spicy','bbq'])
print(orders[2])


print(orders[:2]) #২ নাম্বার পজিশানের আগের পর্যন্ত জিনিসপত্র দেখাচ্ছে। 


orders = np.array([
    ['chese','veg','meat'],
    ['spicy','bbq','spicy']
])
print(orders[0,0])
print(orders[1,0])


print(orders[:,1]) #Showing only column 1


print(orders[:,0]) #Showing only column o


print(orders[0,:])


print(orders[0,1:3]) # ) Row 1 to 3 এর আগ পর্যন্ত কলাম। 


sales= np.array ([2000,1500,8000,3500])
print("Maximum Sales index", np.argmax(sales))
print("Max Sales",np.max(sales))


sales= np.array ([2000,1500,8000,3500])
print("Minimum Sales index", np.argmin(sales))
print("Min Sales",np.min(sales))



