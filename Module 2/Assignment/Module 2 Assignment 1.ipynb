{
 "cells": [
  {
   "cell_type": "code",
   "execution_count": 4,
   "id": "0229b40e",
   "metadata": {},
   "outputs": [
    {
     "name": "stdout",
     "output_type": "stream",
     "text": [
      "Average of 2 Numbers are:  12.5\n",
      "Average of 2 Numbers are:  10.0\n",
      "Average of 2 Numbers are:  45.0\n"
     ]
    }
   ],
   "source": [
    "#problem 1\n",
    "def average(num_1,num_2):\n",
    "    return((num_1+num_2)/2)\n",
    "\n",
    "\n",
    "print(\"Average of 2 Numbers are: \",average(10,15))\n",
    "print(\"Average of 2 Numbers are: \",average(10,10))\n",
    "print(\"Average of 2 Numbers are: \",average(30,60))"
   ]
  },
  {
   "cell_type": "code",
   "execution_count": 5,
   "id": "f37f35bb",
   "metadata": {},
   "outputs": [
    {
     "name": "stdout",
     "output_type": "stream",
     "text": [
      "Unsorted List: ['apple', 'banana', 'cherry', 'kiwi', 'grape']\n",
      "Sorted List according to String:  ['apple', 'banana', 'cherry', 'grape', 'kiwi']\n"
     ]
    }
   ],
   "source": [
    "#problem 2\n",
    "def sort_list_string (list):\n",
    "    print(\"Unsorted List:\", list)\n",
    "    list.sort()\n",
    "    print(\"Sorted List according to String: \", list)\n",
    "\n",
    "list=[\"apple\", \"banana\", \"cherry\", \"kiwi\", \"grape\"]\n",
    "sort_list_string(list)"
   ]
  },
  {
   "cell_type": "code",
   "execution_count": 9,
   "id": "4cc75036",
   "metadata": {},
   "outputs": [
    {
     "name": "stdout",
     "output_type": "stream",
     "text": [
      "[1, 5]\n"
     ]
    }
   ],
   "source": [
    "#problem 3\n",
    "list1=[1, 5, 6, 5, 1, 2, 3]\n",
    "list2=[]\n",
    "for elem in list1:\n",
    "    if list1.count(elem)>1 and elem not in list2:\n",
    "        list2.append(elem)\n",
    "print(list2)"
   ]
  }
 ],
 "metadata": {
  "kernelspec": {
   "display_name": "base",
   "language": "python",
   "name": "python3"
  },
  "language_info": {
   "codemirror_mode": {
    "name": "ipython",
    "version": 3
   },
   "file_extension": ".py",
   "mimetype": "text/x-python",
   "name": "python",
   "nbconvert_exporter": "python",
   "pygments_lexer": "ipython3",
   "version": "3.13.5"
  }
 },
 "nbformat": 4,
 "nbformat_minor": 5
}
